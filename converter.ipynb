{
 "cells": [
  {
   "cell_type": "code",
   "execution_count": 3,
   "metadata": {},
   "outputs": [],
   "source": [
    "import csv\n",
    "\n",
    "# CSVファイルを読み込む\n",
    "with open('notion/Comprehensive Collection of LLM-Related Papers b0fc32542854456cbde923e0adb48845_all.csv', 'r', encoding=\"utf_8_sig\") as csv_file:\n",
    "    csv_reader = csv.DictReader(csv_file)\n",
    "    data = list(csv_reader)\n",
    "data.sort(key=lambda x: x['Category'], reverse=True)\n",
    "\n",
    "# Markdownファイルを書き込む\n",
    "with open('table.md', 'w', encoding='utf-8') as markdown_file:\n",
    "    \n",
    "    num_papers = len(data)\n",
    "    markdown_file.write(f\"<div align=\\\"center\\\"> Number of papers and repos in total: {num_papers}</div>\\n<br>\\n\\n\")\n",
    "    \n",
    "    markdown_file.write('| Category | Title | Links | Date |\\n')\n",
    "    markdown_file.write('| --- | --- | --- | --- |\\n')\n",
    "\n",
    "    for row in data:\n",
    "        category = row['Category'] if row['Category'] else ''\n",
    "        title = row['Title'] if row['Title'] else ''\n",
    "        arxiv_link = f'[ArXiv]({row[\"ArXiv Link\"]})' if row['ArXiv Link'] else ''\n",
    "        github_link = f'[GitHub]({row[\"GitHub\"]})' if row['GitHub'] else ''\n",
    "        links = ', '.join(filter(None, [arxiv_link, github_link]))\n",
    "        publication_date = row['Publication Date'] if row['Publication Date'] else ''\n",
    "        if title != \"\":\n",
    "            if len(title) > 50:\n",
    "                title = title[:50] + '<br>' + title[50:]\n",
    "            \n",
    "            markdown_file.write(f'| {category} | {title} | {links} | {publication_date} |\\n')\n"
   ]
  },
  {
   "cell_type": "code",
   "execution_count": 2,
   "metadata": {},
   "outputs": [],
   "source": [
    "def combine_files(header_file, table_file, output_file):\n",
    "    # ヘッダーファイルを読み込む\n",
    "    with open(header_file, 'r', encoding='utf-8') as f:\n",
    "        header_content = f.read()\n",
    "\n",
    "    # テーブルファイルを読み込む\n",
    "    with open(table_file, 'r', encoding='utf-8') as f:\n",
    "        table_content = f.read()\n",
    "\n",
    "    # READMEファイルに書き込む\n",
    "    with open(output_file, 'w', encoding='utf-8') as f:\n",
    "        f.write(header_content)\n",
    "        f.write('\\n\\n')\n",
    "        f.write(table_content)\n",
    "\n",
    "# ファイル名を指定して結合を実行\n",
    "combine_files('header.md', 'table.md', 'README.md')\n"
   ]
  }
 ],
 "metadata": {
  "kernelspec": {
   "display_name": "VIMA-TurHEOkE",
   "language": "python",
   "name": "python3"
  },
  "language_info": {
   "codemirror_mode": {
    "name": "ipython",
    "version": 3
   },
   "file_extension": ".py",
   "mimetype": "text/x-python",
   "name": "python",
   "nbconvert_exporter": "python",
   "pygments_lexer": "ipython3",
   "version": "3.9.17"
  }
 },
 "nbformat": 4,
 "nbformat_minor": 2
}
